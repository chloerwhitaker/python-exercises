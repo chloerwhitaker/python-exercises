{
 "cells": [
  {
   "cell_type": "markdown",
   "id": "2d9a5e34",
   "metadata": {},
   "source": [
    "# Function Exercises"
   ]
  },
  {
   "cell_type": "markdown",
   "id": "4214d9a1",
   "metadata": {},
   "source": [
    "1. Define a function named is_two. It should accept one input and return True if the passed input is either the number or the string 2, False otherwise."
   ]
  },
  {
   "cell_type": "code",
   "execution_count": 22,
   "id": "5e4ab734",
   "metadata": {},
   "outputs": [],
   "source": [
    "def is_two(x):\n",
    "    return x in [2, '2']"
   ]
  },
  {
   "cell_type": "code",
   "execution_count": 23,
   "id": "dafe0afa",
   "metadata": {},
   "outputs": [
    {
     "data": {
      "text/plain": [
       "True"
      ]
     },
     "execution_count": 23,
     "metadata": {},
     "output_type": "execute_result"
    }
   ],
   "source": [
    "#is_two(2) == True\n",
    "#is_two(1) == True\n",
    "#is_two('2') == True"
   ]
  },
  {
   "cell_type": "markdown",
   "id": "14a0d277",
   "metadata": {},
   "source": [
    "2. Define a function named is_vowel. It should return True if the passed string is a vowel, False otherwise.\n"
   ]
  },
  {
   "cell_type": "code",
   "execution_count": 30,
   "id": "6e4b52b3",
   "metadata": {},
   "outputs": [
    {
     "data": {
      "text/plain": [
       "False"
      ]
     },
     "execution_count": 30,
     "metadata": {},
     "output_type": "execute_result"
    }
   ],
   "source": [
    "def is_vowel(x):\n",
    "    return x.lower() in \"aeiou\""
   ]
  },
  {
   "cell_type": "code",
   "execution_count": null,
   "id": "f8efc3c0",
   "metadata": {},
   "outputs": [],
   "source": [
    "#is_vowel('a') == True\n",
    "#is_vowel('A') == True\n",
    "#is_vowel('B') == True"
   ]
  },
  {
   "cell_type": "markdown",
   "id": "da264865",
   "metadata": {},
   "source": [
    "3. Define a function named is_consonant. It should return True if the passed string is a consonant, False otherwise. Use your is_vowel function to accomplish this."
   ]
  },
  {
   "cell_type": "code",
   "execution_count": 48,
   "id": "1bae1fd6",
   "metadata": {},
   "outputs": [],
   "source": [
    "def is_consonant(x): \n",
    "    return not is_vowel(x)"
   ]
  },
  {
   "cell_type": "code",
   "execution_count": 50,
   "id": "3b65d8b3",
   "metadata": {},
   "outputs": [
    {
     "data": {
      "text/plain": [
       "False"
      ]
     },
     "execution_count": 50,
     "metadata": {},
     "output_type": "execute_result"
    }
   ],
   "source": [
    "#is_consonant('b') == True\n",
    "#is_consonant('a') == True"
   ]
  },
  {
   "cell_type": "markdown",
   "id": "79362768",
   "metadata": {},
   "source": [
    "4. Define a function that accepts a string that is a word. The function should capitalize the first letter of the word if the word starts with a consonant."
   ]
  },
  {
   "cell_type": "code",
   "execution_count": 54,
   "id": "ab19c67e",
   "metadata": {},
   "outputs": [],
   "source": [
    "def cap_the_con(x):\n",
    "    return x.capitalize() if is_consonant(x[0]) else x"
   ]
  },
  {
   "cell_type": "code",
   "execution_count": 56,
   "id": "59ddfb2d",
   "metadata": {},
   "outputs": [
    {
     "data": {
      "text/plain": [
       "False"
      ]
     },
     "execution_count": 56,
     "metadata": {},
     "output_type": "execute_result"
    }
   ],
   "source": [
    "#cap_the_con('chloe') == 'Chloe'\n",
    "#cap_the_con('allen') == 'Allen'"
   ]
  },
  {
   "cell_type": "markdown",
   "id": "69948234",
   "metadata": {},
   "source": [
    "5. Define a function named calculate_tip. It should accept a tip percentage (a number between 0 and 1) and the bill total, and return the amount to tip."
   ]
  },
  {
   "cell_type": "code",
   "execution_count": null,
   "id": "7ca04833",
   "metadata": {},
   "outputs": [],
   "source": []
  },
  {
   "cell_type": "markdown",
   "id": "9481673d",
   "metadata": {},
   "source": [
    "6. Define a function named apply_discount. It should accept a original price, and a discount percentage, and return the price after the discount is applied."
   ]
  },
  {
   "cell_type": "markdown",
   "id": "2c371e2f",
   "metadata": {},
   "source": [
    "7. Define a function named handle_commas. It should accept a string that is a number that contains commas in it as input, and return a number as output."
   ]
  },
  {
   "cell_type": "markdown",
   "id": "282c82e3",
   "metadata": {},
   "source": [
    "8. Define a function named get_letter_grade. It should accept a number and return the letter grade associated with that number (A-F)."
   ]
  },
  {
   "cell_type": "markdown",
   "id": "350c88dc",
   "metadata": {},
   "source": [
    "9. Define a function named remove_vowels that accepts a string and returns a string with all the vowels removed."
   ]
  },
  {
   "cell_type": "markdown",
   "id": "0e66add1",
   "metadata": {},
   "source": [
    "10. Define a function named normalize_name. It should accept a string and return a valid python identifier, that is:\n",
    "    - anything that is not a valid python identifier should be removed\n",
    "    - leading and trailing whitespace should be removed\n",
    "    - everything should be lowercase\n",
    "    - spaces should be replaced with underscores\n",
    "    - for example:\n",
    "        - Name will become name\n",
    "        - First Name will become first_name\n",
    "        - % Completed will become completed"
   ]
  },
  {
   "cell_type": "markdown",
   "id": "c1d213e5",
   "metadata": {},
   "source": [
    "11. Write a function named cumulative_sum that accepts a list of numbers and returns a list that is the cumulative sum of the numbers in the list.\n",
    "    - cumulative_sum([1, 1, 1]) returns [1, 2, 3]\n",
    "    - cumulative_sum([1, 2, 3, 4]) returns [1, 3, 6, 10]"
   ]
  },
  {
   "cell_type": "markdown",
   "id": "89d527f3",
   "metadata": {},
   "source": [
    "#### Additional Exercise"
   ]
  },
  {
   "cell_type": "markdown",
   "id": "0729439b",
   "metadata": {},
   "source": [
    "Once you've completed the above exercises, follow the directions from https://gist.github.com/zgulde/ec8ed80ad8216905cda83d5645c60886 in order to thouroughly comment your code to explain your code."
   ]
  },
  {
   "cell_type": "code",
   "execution_count": null,
   "id": "0814a6ad",
   "metadata": {},
   "outputs": [],
   "source": []
  }
 ],
 "metadata": {
  "kernelspec": {
   "display_name": "Python 3",
   "language": "python",
   "name": "python3"
  },
  "language_info": {
   "codemirror_mode": {
    "name": "ipython",
    "version": 3
   },
   "file_extension": ".py",
   "mimetype": "text/x-python",
   "name": "python",
   "nbconvert_exporter": "python",
   "pygments_lexer": "ipython3",
   "version": "3.8.8"
  }
 },
 "nbformat": 4,
 "nbformat_minor": 5
}
