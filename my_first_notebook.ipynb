{
 "cells": [
  {
   "cell_type": "code",
   "execution_count": 2,
   "id": "1ed28d3e",
   "metadata": {},
   "outputs": [
    {
     "name": "stdout",
     "output_type": "stream",
     "text": [
      "Hello World!\n"
     ]
    }
   ],
   "source": [
    "print (\"Hello World!\")"
   ]
  },
  {
   "cell_type": "code",
   "execution_count": 4,
   "id": "1e140c19",
   "metadata": {},
   "outputs": [
    {
     "data": {
      "text/plain": [
       "int"
      ]
     },
     "execution_count": 4,
     "metadata": {},
     "output_type": "execute_result"
    }
   ],
   "source": [
    "type(123)"
   ]
  },
  {
   "cell_type": "code",
   "execution_count": 5,
   "id": "8390c0c5",
   "metadata": {},
   "outputs": [
    {
     "data": {
      "text/plain": [
       "str"
      ]
     },
     "execution_count": 5,
     "metadata": {},
     "output_type": "execute_result"
    }
   ],
   "source": [
    "type('123')"
   ]
  },
  {
   "cell_type": "code",
   "execution_count": 6,
   "id": "8bd2d4df",
   "metadata": {},
   "outputs": [
    {
     "data": {
      "text/plain": [
       "float"
      ]
     },
     "execution_count": 6,
     "metadata": {},
     "output_type": "execute_result"
    }
   ],
   "source": [
    "type(123.0)"
   ]
  },
  {
   "cell_type": "code",
   "execution_count": 7,
   "id": "93c38eb4",
   "metadata": {},
   "outputs": [
    {
     "data": {
      "text/plain": [
       "bool"
      ]
     },
     "execution_count": 7,
     "metadata": {},
     "output_type": "execute_result"
    }
   ],
   "source": [
    "type(True)"
   ]
  },
  {
   "cell_type": "code",
   "execution_count": 8,
   "id": "17986b83",
   "metadata": {},
   "outputs": [
    {
     "data": {
      "text/plain": [
       "{1, 2, 3}"
      ]
     },
     "execution_count": 8,
     "metadata": {},
     "output_type": "execute_result"
    }
   ],
   "source": [
    "{1,2,3}"
   ]
  },
  {
   "cell_type": "code",
   "execution_count": 12,
   "id": "7718aa46",
   "metadata": {},
   "outputs": [
    {
     "data": {
      "text/plain": [
       "set"
      ]
     },
     "execution_count": 12,
     "metadata": {},
     "output_type": "execute_result"
    }
   ],
   "source": [
    "type({1,2,3})"
   ]
  },
  {
   "cell_type": "code",
   "execution_count": 13,
   "id": "c1c79b77",
   "metadata": {},
   "outputs": [
    {
     "data": {
      "text/plain": [
       "list"
      ]
     },
     "execution_count": 13,
     "metadata": {},
     "output_type": "execute_result"
    }
   ],
   "source": [
    "type([1,2,3])"
   ]
  },
  {
   "cell_type": "code",
   "execution_count": 14,
   "id": "bcdd4b70",
   "metadata": {},
   "outputs": [
    {
     "data": {
      "text/plain": [
       "NoneType"
      ]
     },
     "execution_count": 14,
     "metadata": {},
     "output_type": "execute_result"
    }
   ],
   "source": [
    "type(None)"
   ]
  },
  {
   "cell_type": "code",
   "execution_count": 15,
   "id": "01e38068",
   "metadata": {},
   "outputs": [
    {
     "data": {
      "text/plain": [
       "{1: 2}"
      ]
     },
     "execution_count": 15,
     "metadata": {},
     "output_type": "execute_result"
    }
   ],
   "source": [
    "{1:2}"
   ]
  },
  {
   "cell_type": "code",
   "execution_count": 16,
   "id": "0a3a0128",
   "metadata": {
    "scrolled": false
   },
   "outputs": [
    {
     "data": {
      "text/plain": [
       "{'number': [1, 2, 3, 4]}"
      ]
     },
     "execution_count": 16,
     "metadata": {},
     "output_type": "execute_result"
    }
   ],
   "source": [
    "{'number': [1,2,3,4]}"
   ]
  },
  {
   "cell_type": "code",
   "execution_count": 17,
   "id": "cb0c6a68",
   "metadata": {},
   "outputs": [],
   "source": [
    "# Doesn't remember line 16 after it in executed "
   ]
  },
  {
   "cell_type": "markdown",
   "id": "282b0ba0",
   "metadata": {},
   "source": [
    "# Variables"
   ]
  },
  {
   "cell_type": "code",
   "execution_count": 19,
   "id": "d7dcae97",
   "metadata": {},
   "outputs": [],
   "source": [
    "#Assignment of a value using the = assignment operator\n",
    "current_month = \"October\""
   ]
  },
  {
   "cell_type": "code",
   "execution_count": 20,
   "id": "4649d183",
   "metadata": {},
   "outputs": [
    {
     "name": "stdout",
     "output_type": "stream",
     "text": [
      "October\n"
     ]
    }
   ],
   "source": [
    "print(current_month)"
   ]
  },
  {
   "cell_type": "code",
   "execution_count": 21,
   "id": "e67afb86",
   "metadata": {},
   "outputs": [
    {
     "name": "stdout",
     "output_type": "stream",
     "text": [
      "OctoberOctober\n"
     ]
    }
   ],
   "source": [
    "print(current_month * 2)"
   ]
  },
  {
   "cell_type": "code",
   "execution_count": 22,
   "id": "58cd4220",
   "metadata": {},
   "outputs": [],
   "source": [
    "current_month = 'November'\n",
    "# Can override variable by assigning it a new value"
   ]
  },
  {
   "cell_type": "code",
   "execution_count": 23,
   "id": "6224d9ac",
   "metadata": {},
   "outputs": [
    {
     "name": "stdout",
     "output_type": "stream",
     "text": [
      "November\n"
     ]
    }
   ],
   "source": [
    "print(current_month)"
   ]
  },
  {
   "cell_type": "code",
   "execution_count": 25,
   "id": "c08bca50",
   "metadata": {},
   "outputs": [],
   "source": [
    "# shortcut to markdown is clicking the cell and then pressing 'esc'.\n",
    "# Then press 'm'. To return to code, press 'y'. "
   ]
  },
  {
   "cell_type": "code",
   "execution_count": 26,
   "id": "8323dc63",
   "metadata": {},
   "outputs": [],
   "source": [
    "optimal_scoops_of_ice_cream = 2"
   ]
  },
  {
   "cell_type": "code",
   "execution_count": 27,
   "id": "08d35a74",
   "metadata": {
    "scrolled": true
   },
   "outputs": [
    {
     "name": "stdout",
     "output_type": "stream",
     "text": [
      "2\n"
     ]
    }
   ],
   "source": [
    "print(optimal_scoops_of_ice_cream)\n"
   ]
  },
  {
   "cell_type": "code",
   "execution_count": 28,
   "id": "d0f54ef5",
   "metadata": {},
   "outputs": [
    {
     "data": {
      "text/plain": [
       "3"
      ]
     },
     "execution_count": 28,
     "metadata": {},
     "output_type": "execute_result"
    }
   ],
   "source": [
    "optimal_scoops_of_ice_cream + 1"
   ]
  },
  {
   "cell_type": "code",
   "execution_count": 29,
   "id": "dc857175",
   "metadata": {},
   "outputs": [],
   "source": [
    "optimal_scoops_of_ice_cream = optimal_scoops_of_ice_cream + 1"
   ]
  },
  {
   "cell_type": "code",
   "execution_count": 33,
   "id": "64d18d95",
   "metadata": {},
   "outputs": [
    {
     "data": {
      "text/plain": [
       "3"
      ]
     },
     "execution_count": 33,
     "metadata": {},
     "output_type": "execute_result"
    }
   ],
   "source": [
    "optimal_scoops_of_ice_cream"
   ]
  },
  {
   "cell_type": "code",
   "execution_count": 34,
   "id": "dec806dd",
   "metadata": {},
   "outputs": [
    {
     "data": {
      "text/plain": [
       "3"
      ]
     },
     "execution_count": 34,
     "metadata": {},
     "output_type": "execute_result"
    }
   ],
   "source": [
    "optimal_scoops_of_ice_cream"
   ]
  },
  {
   "cell_type": "code",
   "execution_count": 35,
   "id": "01469dfb",
   "metadata": {},
   "outputs": [
    {
     "data": {
      "text/plain": [
       "int"
      ]
     },
     "execution_count": 35,
     "metadata": {},
     "output_type": "execute_result"
    }
   ],
   "source": [
    "type(optimal_scoops_of_ice_cream)"
   ]
  },
  {
   "cell_type": "code",
   "execution_count": 39,
   "id": "2640ba19",
   "metadata": {},
   "outputs": [],
   "source": [
    "optimal_scoops_of_ice_cream = optimal_scoops_of_ice_cream + 0.5\n"
   ]
  },
  {
   "cell_type": "code",
   "execution_count": 40,
   "id": "a56ec7fe",
   "metadata": {},
   "outputs": [
    {
     "name": "stdout",
     "output_type": "stream",
     "text": [
      "4.5\n"
     ]
    }
   ],
   "source": [
    "print(optimal_scoops_of_ice_cream)\n"
   ]
  },
  {
   "cell_type": "code",
   "execution_count": 41,
   "id": "9f22144d",
   "metadata": {},
   "outputs": [
    {
     "data": {
      "text/plain": [
       "float"
      ]
     },
     "execution_count": 41,
     "metadata": {},
     "output_type": "execute_result"
    }
   ],
   "source": [
    "type(optimal_scoops_of_ice_cream)\n"
   ]
  },
  {
   "cell_type": "code",
   "execution_count": 53,
   "id": "83f1748b",
   "metadata": {},
   "outputs": [],
   "source": [
    "# python can change int to float values but doesn't easily go back\n",
    "# would have to retype it as an int. \n"
   ]
  },
  {
   "cell_type": "markdown",
   "id": "15528469",
   "metadata": {},
   "source": [
    "# Booleans"
   ]
  },
  {
   "cell_type": "code",
   "execution_count": 54,
   "id": "bf4e5fc6",
   "metadata": {},
   "outputs": [
    {
     "data": {
      "text/plain": [
       "True"
      ]
     },
     "execution_count": 54,
     "metadata": {},
     "output_type": "execute_result"
    }
   ],
   "source": [
    "3 != 4"
   ]
  },
  {
   "cell_type": "code",
   "execution_count": 55,
   "id": "a186cd13",
   "metadata": {},
   "outputs": [
    {
     "data": {
      "text/plain": [
       "True"
      ]
     },
     "execution_count": 55,
     "metadata": {},
     "output_type": "execute_result"
    }
   ],
   "source": [
    "False == False"
   ]
  },
  {
   "cell_type": "code",
   "execution_count": 56,
   "id": "2cd3aeff",
   "metadata": {},
   "outputs": [
    {
     "data": {
      "text/plain": [
       "True"
      ]
     },
     "execution_count": 56,
     "metadata": {},
     "output_type": "execute_result"
    }
   ],
   "source": [
    "True and True"
   ]
  },
  {
   "cell_type": "code",
   "execution_count": 57,
   "id": "4e590393",
   "metadata": {},
   "outputs": [
    {
     "data": {
      "text/plain": [
       "True"
      ]
     },
     "execution_count": 57,
     "metadata": {},
     "output_type": "execute_result"
    }
   ],
   "source": [
    "True or True"
   ]
  },
  {
   "cell_type": "code",
   "execution_count": 58,
   "id": "e7009c96",
   "metadata": {},
   "outputs": [
    {
     "data": {
      "text/plain": [
       "True"
      ]
     },
     "execution_count": 58,
     "metadata": {},
     "output_type": "execute_result"
    }
   ],
   "source": [
    "True or False"
   ]
  },
  {
   "cell_type": "code",
   "execution_count": 59,
   "id": "79560590",
   "metadata": {},
   "outputs": [
    {
     "data": {
      "text/plain": [
       "False"
      ]
     },
     "execution_count": 59,
     "metadata": {},
     "output_type": "execute_result"
    }
   ],
   "source": [
    "True and False"
   ]
  },
  {
   "cell_type": "code",
   "execution_count": 60,
   "id": "ae0ae0c8",
   "metadata": {},
   "outputs": [
    {
     "data": {
      "text/plain": [
       "False"
      ]
     },
     "execution_count": 60,
     "metadata": {},
     "output_type": "execute_result"
    }
   ],
   "source": [
    "not True"
   ]
  },
  {
   "cell_type": "code",
   "execution_count": 61,
   "id": "8e14c4f5",
   "metadata": {},
   "outputs": [
    {
     "data": {
      "text/plain": [
       "True"
      ]
     },
     "execution_count": 61,
     "metadata": {},
     "output_type": "execute_result"
    }
   ],
   "source": [
    "not False"
   ]
  },
  {
   "cell_type": "markdown",
   "id": "0ebcd273",
   "metadata": {},
   "source": [
    "# Variables and Booleans Together!"
   ]
  },
  {
   "cell_type": "code",
   "execution_count": 62,
   "id": "e6f94e59",
   "metadata": {},
   "outputs": [],
   "source": [
    "is_it_raining = False"
   ]
  },
  {
   "cell_type": "code",
   "execution_count": 63,
   "id": "95e58990",
   "metadata": {},
   "outputs": [],
   "source": [
    "I_have_an_umbrella = True"
   ]
  },
  {
   "cell_type": "code",
   "execution_count": 64,
   "id": "f78ffc60",
   "metadata": {},
   "outputs": [
    {
     "data": {
      "text/plain": [
       "False"
      ]
     },
     "execution_count": 64,
     "metadata": {},
     "output_type": "execute_result"
    }
   ],
   "source": [
    "is_it_raining and I_have_an_umbrella"
   ]
  },
  {
   "cell_type": "code",
   "execution_count": 68,
   "id": "40f3a8b6",
   "metadata": {},
   "outputs": [],
   "source": [
    "is_it_raining = True"
   ]
  },
  {
   "cell_type": "code",
   "execution_count": 69,
   "id": "16664efe",
   "metadata": {},
   "outputs": [
    {
     "data": {
      "text/plain": [
       "True"
      ]
     },
     "execution_count": 69,
     "metadata": {},
     "output_type": "execute_result"
    }
   ],
   "source": [
    "is_it_raining and I_have_an_umbrella"
   ]
  },
  {
   "cell_type": "code",
   "execution_count": 71,
   "id": "875c2979",
   "metadata": {},
   "outputs": [],
   "source": [
    "is_first_of_the_month = True\n",
    "has_report_been_sent = False"
   ]
  },
  {
   "cell_type": "code",
   "execution_count": 72,
   "id": "6baa38ea",
   "metadata": {},
   "outputs": [
    {
     "data": {
      "text/plain": [
       "False"
      ]
     },
     "execution_count": 72,
     "metadata": {},
     "output_type": "execute_result"
    }
   ],
   "source": [
    "is_first_of_the_month and has_report_been_sent"
   ]
  },
  {
   "cell_type": "code",
   "execution_count": 73,
   "id": "6648781e",
   "metadata": {},
   "outputs": [],
   "source": [
    "should_we_send_report = is_first_of_the_month and has_report_been_sent"
   ]
  },
  {
   "cell_type": "code",
   "execution_count": 74,
   "id": "d09492ea",
   "metadata": {},
   "outputs": [
    {
     "data": {
      "text/plain": [
       "False"
      ]
     },
     "execution_count": 74,
     "metadata": {},
     "output_type": "execute_result"
    }
   ],
   "source": [
    "should_we_send_report"
   ]
  },
  {
   "cell_type": "code",
   "execution_count": 75,
   "id": "68f8317b",
   "metadata": {},
   "outputs": [],
   "source": [
    "should_we_send_report = is_first_of_the_month and not has_report_been_sent"
   ]
  },
  {
   "cell_type": "code",
   "execution_count": 76,
   "id": "03107880",
   "metadata": {},
   "outputs": [
    {
     "data": {
      "text/plain": [
       "True"
      ]
     },
     "execution_count": 76,
     "metadata": {},
     "output_type": "execute_result"
    }
   ],
   "source": [
    "should_we_send_report"
   ]
  },
  {
   "cell_type": "code",
   "execution_count": 77,
   "id": "1a93e126",
   "metadata": {},
   "outputs": [],
   "source": [
    "# That's how to use \"not\" to change a boolean expression"
   ]
  },
  {
   "cell_type": "code",
   "execution_count": 78,
   "id": "a4e6436d",
   "metadata": {},
   "outputs": [],
   "source": [
    "has_report_been_sent = True"
   ]
  },
  {
   "cell_type": "code",
   "execution_count": 79,
   "id": "a478a5e7",
   "metadata": {},
   "outputs": [
    {
     "data": {
      "text/plain": [
       "True"
      ]
     },
     "execution_count": 79,
     "metadata": {},
     "output_type": "execute_result"
    }
   ],
   "source": [
    "should_we_send_report"
   ]
  },
  {
   "cell_type": "code",
   "execution_count": 80,
   "id": "71a724cc",
   "metadata": {},
   "outputs": [],
   "source": [
    "should_we_send_report = is_first_of_the_month and not has_report_been_sent"
   ]
  },
  {
   "cell_type": "code",
   "execution_count": 81,
   "id": "fbc33169",
   "metadata": {},
   "outputs": [
    {
     "data": {
      "text/plain": [
       "False"
      ]
     },
     "execution_count": 81,
     "metadata": {},
     "output_type": "execute_result"
    }
   ],
   "source": [
    "should_we_send_report\n"
   ]
  },
  {
   "cell_type": "code",
   "execution_count": 82,
   "id": "253020ad",
   "metadata": {},
   "outputs": [],
   "source": [
    "# A day passes\n",
    "is_first_of_the_month = False\n",
    "has_report_been_sent = False"
   ]
  },
  {
   "cell_type": "code",
   "execution_count": 83,
   "id": "3d4c5ed5",
   "metadata": {},
   "outputs": [],
   "source": [
    "should_we_send_report = is_first_of_the_month and not has_report_been_sent"
   ]
  },
  {
   "cell_type": "code",
   "execution_count": 84,
   "id": "7dff553c",
   "metadata": {},
   "outputs": [
    {
     "data": {
      "text/plain": [
       "False"
      ]
     },
     "execution_count": 84,
     "metadata": {},
     "output_type": "execute_result"
    }
   ],
   "source": [
    "should_we_send_report"
   ]
  },
  {
   "cell_type": "code",
   "execution_count": 85,
   "id": "37c8ccdf",
   "metadata": {},
   "outputs": [
    {
     "name": "stdout",
     "output_type": "stream",
     "text": [
      "False\n"
     ]
    }
   ],
   "source": [
    "print(should_we_send_report)"
   ]
  },
  {
   "cell_type": "markdown",
   "id": "0503a338",
   "metadata": {},
   "source": [
    "# Math Operators, Variable, and Booleans!"
   ]
  },
  {
   "cell_type": "code",
   "execution_count": 86,
   "id": "e3ddad20",
   "metadata": {},
   "outputs": [],
   "source": [
    "x=5"
   ]
  },
  {
   "cell_type": "code",
   "execution_count": 87,
   "id": "5e708c25",
   "metadata": {},
   "outputs": [
    {
     "data": {
      "text/plain": [
       "15"
      ]
     },
     "execution_count": 87,
     "metadata": {},
     "output_type": "execute_result"
    }
   ],
   "source": [
    "x + 10"
   ]
  },
  {
   "cell_type": "code",
   "execution_count": 88,
   "id": "261619ce",
   "metadata": {},
   "outputs": [
    {
     "data": {
      "text/plain": [
       "True"
      ]
     },
     "execution_count": 88,
     "metadata": {},
     "output_type": "execute_result"
    }
   ],
   "source": [
    "x + 10 == 15"
   ]
  },
  {
   "cell_type": "markdown",
   "id": "12faa873",
   "metadata": {},
   "source": [
    "## Order of Operations\n",
    "- Please Excuse My Dear Aunt Sally\n",
    "    -Parenthesis\n",
    "    - Exponents\n",
    "    - Mulitplication and Division (evaluated left to right)\n",
    "    - Addition and Subtraction (evaluated left to right)"
   ]
  },
  {
   "cell_type": "code",
   "execution_count": 89,
   "id": "1faa5793",
   "metadata": {},
   "outputs": [
    {
     "data": {
      "text/plain": [
       "-65"
      ]
     },
     "execution_count": 89,
     "metadata": {},
     "output_type": "execute_result"
    }
   ],
   "source": [
    "(x * 2) ** 2 - (15 * 11)"
   ]
  },
  {
   "cell_type": "code",
   "execution_count": 90,
   "id": "b2ab7191",
   "metadata": {},
   "outputs": [
    {
     "data": {
      "text/plain": [
       "2"
      ]
     },
     "execution_count": 90,
     "metadata": {},
     "output_type": "execute_result"
    }
   ],
   "source": [
    "# Floor division \n",
    "5 // 2"
   ]
  },
  {
   "cell_type": "code",
   "execution_count": 91,
   "id": "0ede4f76",
   "metadata": {},
   "outputs": [
    {
     "data": {
      "text/plain": [
       "3"
      ]
     },
     "execution_count": 91,
     "metadata": {},
     "output_type": "execute_result"
    }
   ],
   "source": [
    "7 // 2\n"
   ]
  },
  {
   "cell_type": "code",
   "execution_count": 92,
   "id": "bd54bd2a",
   "metadata": {},
   "outputs": [
    {
     "data": {
      "text/plain": [
       "4"
      ]
     },
     "execution_count": 92,
     "metadata": {},
     "output_type": "execute_result"
    }
   ],
   "source": [
    "9 // 2"
   ]
  },
  {
   "cell_type": "code",
   "execution_count": 93,
   "id": "d6a27707",
   "metadata": {},
   "outputs": [
    {
     "data": {
      "text/plain": [
       "0"
      ]
     },
     "execution_count": 93,
     "metadata": {},
     "output_type": "execute_result"
    }
   ],
   "source": [
    "1 // 2"
   ]
  },
  {
   "cell_type": "code",
   "execution_count": 94,
   "id": "6191f557",
   "metadata": {},
   "outputs": [],
   "source": [
    "# 2 can not fit into 1 at all - so 0"
   ]
  },
  {
   "cell_type": "code",
   "execution_count": 96,
   "id": "6e2a282d",
   "metadata": {},
   "outputs": [
    {
     "data": {
      "text/plain": [
       "1"
      ]
     },
     "execution_count": 96,
     "metadata": {},
     "output_type": "execute_result"
    }
   ],
   "source": [
    "# Modulo\n",
    "5 % 2"
   ]
  },
  {
   "cell_type": "code",
   "execution_count": 97,
   "id": "f25552a4",
   "metadata": {},
   "outputs": [],
   "source": [
    "# After 5 is divided by 2, what is remaining? \n",
    "# Helps to determine even and odd"
   ]
  },
  {
   "cell_type": "code",
   "execution_count": 99,
   "id": "2364ff23",
   "metadata": {},
   "outputs": [
    {
     "data": {
      "text/plain": [
       "2"
      ]
     },
     "execution_count": 99,
     "metadata": {},
     "output_type": "execute_result"
    }
   ],
   "source": [
    "5 % 3"
   ]
  },
  {
   "cell_type": "code",
   "execution_count": 100,
   "id": "5db15e20",
   "metadata": {},
   "outputs": [
    {
     "data": {
      "text/plain": [
       "2.0"
      ]
     },
     "execution_count": 100,
     "metadata": {},
     "output_type": "execute_result"
    }
   ],
   "source": [
    "5.0 // 2"
   ]
  },
  {
   "cell_type": "code",
   "execution_count": 101,
   "id": "dfc7acdf",
   "metadata": {},
   "outputs": [
    {
     "data": {
      "text/plain": [
       "True"
      ]
     },
     "execution_count": 101,
     "metadata": {},
     "output_type": "execute_result"
    }
   ],
   "source": [
    "5.0 == 5"
   ]
  },
  {
   "cell_type": "code",
   "execution_count": 102,
   "id": "49bd5a21",
   "metadata": {},
   "outputs": [],
   "source": [
    "# Python is smart enough to compare int to floats"
   ]
  },
  {
   "cell_type": "markdown",
   "id": "db3883d6",
   "metadata": {},
   "source": [
    "# Strings"
   ]
  },
  {
   "cell_type": "code",
   "execution_count": 103,
   "id": "874f4ac5",
   "metadata": {},
   "outputs": [],
   "source": [
    "string = \"This is cool\""
   ]
  },
  {
   "cell_type": "code",
   "execution_count": 104,
   "id": "f9c3a1f1",
   "metadata": {},
   "outputs": [],
   "source": [
    "string2 = 'This is also cool'"
   ]
  },
  {
   "cell_type": "code",
   "execution_count": 106,
   "id": "7e72039b",
   "metadata": {},
   "outputs": [
    {
     "ename": "SyntaxError",
     "evalue": "EOL while scanning string literal (<ipython-input-106-66c4cb7ab670>, line 1)",
     "output_type": "error",
     "traceback": [
      "\u001b[0;36m  File \u001b[0;32m\"<ipython-input-106-66c4cb7ab670>\"\u001b[0;36m, line \u001b[0;32m1\u001b[0m\n\u001b[0;31m    string3 = \"This is not cool'\u001b[0m\n\u001b[0m                                ^\u001b[0m\n\u001b[0;31mSyntaxError\u001b[0m\u001b[0;31m:\u001b[0m EOL while scanning string literal\n"
     ]
    }
   ],
   "source": [
    "string3 = \"This is not cool'\n",
    "# Can't use single and double quotes together"
   ]
  },
  {
   "cell_type": "code",
   "execution_count": 107,
   "id": "879145d3",
   "metadata": {},
   "outputs": [
    {
     "name": "stdout",
     "output_type": "stream",
     "text": [
      "Sgt Pepper's Band\n"
     ]
    }
   ],
   "source": [
    "string4 = 'Sgt Pepper\\'s Band'\n",
    "print(string4)"
   ]
  },
  {
   "cell_type": "code",
   "execution_count": 108,
   "id": "6e7c856a",
   "metadata": {},
   "outputs": [],
   "source": [
    "# \\ escapes out the ' so that is doesn't close the string"
   ]
  },
  {
   "cell_type": "code",
   "execution_count": 109,
   "id": "84324620",
   "metadata": {},
   "outputs": [],
   "source": [
    "# Using \\n to create a new line is useful in cleaning data\n",
    "newline_string = \"This string\\ncontains a newline\""
   ]
  },
  {
   "cell_type": "code",
   "execution_count": 110,
   "id": "324d3695",
   "metadata": {},
   "outputs": [
    {
     "name": "stdout",
     "output_type": "stream",
     "text": [
      "This string\n",
      "contains a newline\n"
     ]
    }
   ],
   "source": [
    "print(newline_string)"
   ]
  },
  {
   "cell_type": "markdown",
   "id": "e32b7ba2",
   "metadata": {},
   "source": [
    "# Strings and Booleans"
   ]
  },
  {
   "cell_type": "code",
   "execution_count": 111,
   "id": "152a498d",
   "metadata": {},
   "outputs": [
    {
     "data": {
      "text/plain": [
       "True"
      ]
     },
     "execution_count": 111,
     "metadata": {},
     "output_type": "execute_result"
    }
   ],
   "source": [
    "'string' == 'string'"
   ]
  },
  {
   "cell_type": "markdown",
   "id": "0f427804",
   "metadata": {},
   "source": [
    "# String Operations"
   ]
  },
  {
   "cell_type": "code",
   "execution_count": 112,
   "id": "deb29978",
   "metadata": {},
   "outputs": [
    {
     "data": {
      "text/plain": [
       "'stringstring'"
      ]
     },
     "execution_count": 112,
     "metadata": {},
     "output_type": "execute_result"
    }
   ],
   "source": [
    "'string' + 'string'"
   ]
  },
  {
   "cell_type": "code",
   "execution_count": 113,
   "id": "995d068a",
   "metadata": {},
   "outputs": [
    {
     "data": {
      "text/plain": [
       "'stringstringstringstringstring'"
      ]
     },
     "execution_count": 113,
     "metadata": {},
     "output_type": "execute_result"
    }
   ],
   "source": [
    "'string' * 5"
   ]
  },
  {
   "cell_type": "code",
   "execution_count": 114,
   "id": "6cf2e53e",
   "metadata": {},
   "outputs": [
    {
     "ename": "TypeError",
     "evalue": "unsupported operand type(s) for ** or pow(): 'str' and 'int'",
     "output_type": "error",
     "traceback": [
      "\u001b[0;31m---------------------------------------------------------------------------\u001b[0m",
      "\u001b[0;31mTypeError\u001b[0m                                 Traceback (most recent call last)",
      "\u001b[0;32m<ipython-input-114-5bc6b06a2f7a>\u001b[0m in \u001b[0;36m<module>\u001b[0;34m\u001b[0m\n\u001b[1;32m      1\u001b[0m \u001b[0;31m# These don't work:\u001b[0m\u001b[0;34m\u001b[0m\u001b[0;34m\u001b[0m\u001b[0;34m\u001b[0m\u001b[0m\n\u001b[0;32m----> 2\u001b[0;31m \u001b[0;34m'string'\u001b[0m \u001b[0;34m**\u001b[0m \u001b[0;36m2\u001b[0m\u001b[0;34m\u001b[0m\u001b[0;34m\u001b[0m\u001b[0m\n\u001b[0m",
      "\u001b[0;31mTypeError\u001b[0m: unsupported operand type(s) for ** or pow(): 'str' and 'int'"
     ]
    }
   ],
   "source": [
    "# These don't work:\n",
    "'string' ** 2"
   ]
  },
  {
   "cell_type": "code",
   "execution_count": 115,
   "id": "23e186e4",
   "metadata": {},
   "outputs": [
    {
     "ename": "TypeError",
     "evalue": "unsupported operand type(s) for -: 'str' and 'str'",
     "output_type": "error",
     "traceback": [
      "\u001b[0;31m---------------------------------------------------------------------------\u001b[0m",
      "\u001b[0;31mTypeError\u001b[0m                                 Traceback (most recent call last)",
      "\u001b[0;32m<ipython-input-115-85b422557acb>\u001b[0m in \u001b[0;36m<module>\u001b[0;34m\u001b[0m\n\u001b[0;32m----> 1\u001b[0;31m \u001b[0;34m'string'\u001b[0m \u001b[0;34m-\u001b[0m \u001b[0;34m'string'\u001b[0m\u001b[0;34m\u001b[0m\u001b[0;34m\u001b[0m\u001b[0m\n\u001b[0m",
      "\u001b[0;31mTypeError\u001b[0m: unsupported operand type(s) for -: 'str' and 'str'"
     ]
    }
   ],
   "source": [
    "'string' - 'string'"
   ]
  },
  {
   "cell_type": "code",
   "execution_count": 116,
   "id": "2fcb2a13",
   "metadata": {},
   "outputs": [
    {
     "ename": "TypeError",
     "evalue": "can't multiply sequence by non-int of type 'str'",
     "output_type": "error",
     "traceback": [
      "\u001b[0;31m---------------------------------------------------------------------------\u001b[0m",
      "\u001b[0;31mTypeError\u001b[0m                                 Traceback (most recent call last)",
      "\u001b[0;32m<ipython-input-116-7a9ef08831da>\u001b[0m in \u001b[0;36m<module>\u001b[0;34m\u001b[0m\n\u001b[0;32m----> 1\u001b[0;31m \u001b[0;34m'string'\u001b[0m \u001b[0;34m*\u001b[0m \u001b[0;34m'string'\u001b[0m\u001b[0;34m\u001b[0m\u001b[0;34m\u001b[0m\u001b[0m\n\u001b[0m",
      "\u001b[0;31mTypeError\u001b[0m: can't multiply sequence by non-int of type 'str'"
     ]
    }
   ],
   "source": [
    "'string' * 'string'"
   ]
  },
  {
   "cell_type": "code",
   "execution_count": 117,
   "id": "a845503a",
   "metadata": {},
   "outputs": [
    {
     "data": {
      "text/plain": [
       "'21'"
      ]
     },
     "execution_count": 117,
     "metadata": {},
     "output_type": "execute_result"
    }
   ],
   "source": [
    "# Can use to concat strings together\n",
    "'2' + str(1)"
   ]
  },
  {
   "cell_type": "code",
   "execution_count": 118,
   "id": "a71403fb",
   "metadata": {},
   "outputs": [
    {
     "data": {
      "text/plain": [
       "3"
      ]
     },
     "execution_count": 118,
     "metadata": {},
     "output_type": "execute_result"
    }
   ],
   "source": [
    "int('2') + 1"
   ]
  },
  {
   "cell_type": "code",
   "execution_count": 119,
   "id": "42102606",
   "metadata": {},
   "outputs": [
    {
     "data": {
      "text/plain": [
       "'2.371'"
      ]
     },
     "execution_count": 119,
     "metadata": {},
     "output_type": "execute_result"
    }
   ],
   "source": [
    "str(2.37) + '1'"
   ]
  },
  {
   "cell_type": "code",
   "execution_count": 120,
   "id": "a62c82d4",
   "metadata": {},
   "outputs": [],
   "source": [
    "string5 = 'Hello'\n",
    "string6 = 'World'"
   ]
  },
  {
   "cell_type": "code",
   "execution_count": 121,
   "id": "76fb48c2",
   "metadata": {},
   "outputs": [
    {
     "data": {
      "text/plain": [
       "'HelloWorld'"
      ]
     },
     "execution_count": 121,
     "metadata": {},
     "output_type": "execute_result"
    }
   ],
   "source": [
    "string5 + string6"
   ]
  },
  {
   "cell_type": "code",
   "execution_count": 122,
   "id": "3a0be40e",
   "metadata": {},
   "outputs": [
    {
     "data": {
      "text/plain": [
       "'Hello World'"
      ]
     },
     "execution_count": 122,
     "metadata": {},
     "output_type": "execute_result"
    }
   ],
   "source": [
    "string5 + ' ' + string6"
   ]
  },
  {
   "cell_type": "markdown",
   "id": "7dca13f4",
   "metadata": {},
   "source": [
    "# String Formatting"
   ]
  },
  {
   "cell_type": "code",
   "execution_count": 123,
   "id": "306c7410",
   "metadata": {},
   "outputs": [],
   "source": [
    "avg_ducks = 5"
   ]
  },
  {
   "cell_type": "code",
   "execution_count": 126,
   "id": "61a78745",
   "metadata": {},
   "outputs": [
    {
     "ename": "TypeError",
     "evalue": "can only concatenate str (not \"int\") to str",
     "output_type": "error",
     "traceback": [
      "\u001b[0;31m---------------------------------------------------------------------------\u001b[0m",
      "\u001b[0;31mTypeError\u001b[0m                                 Traceback (most recent call last)",
      "\u001b[0;32m<ipython-input-126-12d5e3c546f8>\u001b[0m in \u001b[0;36m<module>\u001b[0;34m\u001b[0m\n\u001b[0;32m----> 1\u001b[0;31m \u001b[0mprint\u001b[0m\u001b[0;34m(\u001b[0m\u001b[0;34m'Average number of ducks in the pond:'\u001b[0m \u001b[0;34m+\u001b[0m \u001b[0mavg_ducks\u001b[0m\u001b[0;34m)\u001b[0m\u001b[0;34m\u001b[0m\u001b[0;34m\u001b[0m\u001b[0m\n\u001b[0m",
      "\u001b[0;31mTypeError\u001b[0m: can only concatenate str (not \"int\") to str"
     ]
    }
   ],
   "source": [
    "print('Average number of ducks in the pond:' + avg_ducks)"
   ]
  },
  {
   "cell_type": "code",
   "execution_count": 127,
   "id": "20d893f5",
   "metadata": {},
   "outputs": [
    {
     "name": "stdout",
     "output_type": "stream",
     "text": [
      "Average number of ducks in the pond:5\n"
     ]
    }
   ],
   "source": [
    "print('Average number of ducks in the pond:' + str(avg_ducks))"
   ]
  },
  {
   "cell_type": "markdown",
   "id": "f15152de",
   "metadata": {},
   "source": [
    "% formatting\n"
   ]
  },
  {
   "cell_type": "code",
   "execution_count": 128,
   "id": "bc1aab10",
   "metadata": {},
   "outputs": [],
   "source": [
    "my_fav_color = 'puce'"
   ]
  },
  {
   "cell_type": "code",
   "execution_count": 131,
   "id": "c0e3342a",
   "metadata": {},
   "outputs": [
    {
     "data": {
      "text/plain": [
       "'My favorite color: puce!'"
      ]
     },
     "execution_count": 131,
     "metadata": {},
     "output_type": "execute_result"
    }
   ],
   "source": [
    "'My favorite color: %s!' % my_fav_color"
   ]
  },
  {
   "cell_type": "markdown",
   "id": "4d103d2c",
   "metadata": {},
   "source": [
    "{}.format"
   ]
  },
  {
   "cell_type": "code",
   "execution_count": 132,
   "id": "c3b6df7d",
   "metadata": {},
   "outputs": [
    {
     "data": {
      "text/plain": [
       "'My favorite color: puce'"
      ]
     },
     "execution_count": 132,
     "metadata": {},
     "output_type": "execute_result"
    }
   ],
   "source": [
    "'My favorite color: {}'.format(my_fav_color)"
   ]
  },
  {
   "cell_type": "markdown",
   "id": "613139ff",
   "metadata": {},
   "source": [
    "f format"
   ]
  },
  {
   "cell_type": "code",
   "execution_count": 133,
   "id": "fdf75890",
   "metadata": {},
   "outputs": [
    {
     "data": {
      "text/plain": [
       "'My favorite color: puce'"
      ]
     },
     "execution_count": 133,
     "metadata": {},
     "output_type": "execute_result"
    }
   ],
   "source": [
    "f'My favorite color: {my_fav_color}'"
   ]
  },
  {
   "cell_type": "markdown",
   "id": "9541ebb0",
   "metadata": {},
   "source": [
    "## String Methods\n",
    "- .lower() method and .upper() method\n"
   ]
  },
  {
   "cell_type": "code",
   "execution_count": 134,
   "id": "3f0d36b6",
   "metadata": {},
   "outputs": [],
   "source": [
    "string = 'HeLlO i Am A gOod cOdEr'"
   ]
  },
  {
   "cell_type": "code",
   "execution_count": 135,
   "id": "434befde",
   "metadata": {},
   "outputs": [
    {
     "data": {
      "text/plain": [
       "'hello i am a good coder'"
      ]
     },
     "execution_count": 135,
     "metadata": {},
     "output_type": "execute_result"
    }
   ],
   "source": [
    "string.lower()"
   ]
  },
  {
   "cell_type": "code",
   "execution_count": 136,
   "id": "3ab055fb",
   "metadata": {},
   "outputs": [
    {
     "data": {
      "text/plain": [
       "'HELLO I AM A GOOD CODER'"
      ]
     },
     "execution_count": 136,
     "metadata": {},
     "output_type": "execute_result"
    }
   ],
   "source": [
    "string.upper()"
   ]
  },
  {
   "cell_type": "code",
   "execution_count": 137,
   "id": "bd3b26e5",
   "metadata": {},
   "outputs": [
    {
     "data": {
      "text/plain": [
       "'HeLlO i Am A gOod cOdEr'"
      ]
     },
     "execution_count": 137,
     "metadata": {},
     "output_type": "execute_result"
    }
   ],
   "source": [
    "string"
   ]
  },
  {
   "cell_type": "code",
   "execution_count": 139,
   "id": "c03bbf38",
   "metadata": {},
   "outputs": [],
   "source": [
    "# ^ didn't change string"
   ]
  },
  {
   "cell_type": "markdown",
   "id": "62a24da3",
   "metadata": {},
   "source": [
    "- .strip() method"
   ]
  },
  {
   "cell_type": "code",
   "execution_count": 140,
   "id": "aba36bf0",
   "metadata": {},
   "outputs": [],
   "source": [
    "string = \"       lots o' space    \""
   ]
  },
  {
   "cell_type": "code",
   "execution_count": 141,
   "id": "42346f32",
   "metadata": {},
   "outputs": [
    {
     "data": {
      "text/plain": [
       "\"       lots o' space    \""
      ]
     },
     "execution_count": 141,
     "metadata": {},
     "output_type": "execute_result"
    }
   ],
   "source": [
    "string"
   ]
  },
  {
   "cell_type": "code",
   "execution_count": 142,
   "id": "3ec5fca6",
   "metadata": {},
   "outputs": [
    {
     "data": {
      "text/plain": [
       "\"lots o' space\""
      ]
     },
     "execution_count": 142,
     "metadata": {},
     "output_type": "execute_result"
    }
   ],
   "source": [
    "string.strip()"
   ]
  },
  {
   "cell_type": "markdown",
   "id": "9348e3e6",
   "metadata": {},
   "source": [
    "- .isdigit() method"
   ]
  },
  {
   "cell_type": "code",
   "execution_count": 143,
   "id": "ef31f53d",
   "metadata": {},
   "outputs": [
    {
     "data": {
      "text/plain": [
       "False"
      ]
     },
     "execution_count": 143,
     "metadata": {},
     "output_type": "execute_result"
    }
   ],
   "source": [
    "string.isdigit()"
   ]
  },
  {
   "cell_type": "code",
   "execution_count": 144,
   "id": "44344713",
   "metadata": {},
   "outputs": [],
   "source": [
    "num_string = '123'"
   ]
  },
  {
   "cell_type": "code",
   "execution_count": 145,
   "id": "760faadc",
   "metadata": {},
   "outputs": [
    {
     "data": {
      "text/plain": [
       "True"
      ]
     },
     "execution_count": 145,
     "metadata": {},
     "output_type": "execute_result"
    }
   ],
   "source": [
    "num_string.isdigit()"
   ]
  },
  {
   "cell_type": "code",
   "execution_count": 147,
   "id": "78d280f5",
   "metadata": {},
   "outputs": [
    {
     "data": {
      "text/plain": [
       "bool"
      ]
     },
     "execution_count": 147,
     "metadata": {},
     "output_type": "execute_result"
    }
   ],
   "source": [
    "type(num_string.isdigit())"
   ]
  },
  {
   "cell_type": "markdown",
   "id": "63bb3525",
   "metadata": {},
   "source": [
    "- .split() method"
   ]
  },
  {
   "cell_type": "code",
   "execution_count": 148,
   "id": "8ac8bd36",
   "metadata": {},
   "outputs": [],
   "source": [
    "address = \"1234 Main St, San Antonio, TX 78231\""
   ]
  },
  {
   "cell_type": "code",
   "execution_count": 149,
   "id": "15fca4ee",
   "metadata": {},
   "outputs": [
    {
     "data": {
      "text/plain": [
       "['1234 Main St', 'San Antonio', 'TX 78231']"
      ]
     },
     "execution_count": 149,
     "metadata": {},
     "output_type": "execute_result"
    }
   ],
   "source": [
    "address.split(', ')"
   ]
  },
  {
   "cell_type": "code",
   "execution_count": 150,
   "id": "517c3c45",
   "metadata": {},
   "outputs": [
    {
     "data": {
      "text/plain": [
       "list"
      ]
     },
     "execution_count": 150,
     "metadata": {},
     "output_type": "execute_result"
    }
   ],
   "source": [
    "type(address.split())"
   ]
  },
  {
   "cell_type": "code",
   "execution_count": 151,
   "id": "1fe1fe2a",
   "metadata": {},
   "outputs": [],
   "source": [
    "address_list = address.split(', ')"
   ]
  },
  {
   "cell_type": "code",
   "execution_count": 152,
   "id": "10ea5f6f",
   "metadata": {},
   "outputs": [],
   "source": [
    "address_no_comma = \"1234 Main St San Antonio TX 78231\""
   ]
  },
  {
   "cell_type": "code",
   "execution_count": 153,
   "id": "34d58d0e",
   "metadata": {},
   "outputs": [
    {
     "data": {
      "text/plain": [
       "['1234 Main St San Antonio TX 78231']"
      ]
     },
     "execution_count": 153,
     "metadata": {},
     "output_type": "execute_result"
    }
   ],
   "source": [
    "address_no_comma.split(', ')"
   ]
  },
  {
   "cell_type": "code",
   "execution_count": 154,
   "id": "0d508980",
   "metadata": {},
   "outputs": [
    {
     "data": {
      "text/plain": [
       "['1234', 'Main', 'St,', 'San', 'Antonio,', 'TX', '78231']"
      ]
     },
     "execution_count": 154,
     "metadata": {},
     "output_type": "execute_result"
    }
   ],
   "source": [
    "address.split()"
   ]
  },
  {
   "cell_type": "code",
   "execution_count": 156,
   "id": "8ad24f2d",
   "metadata": {},
   "outputs": [
    {
     "data": {
      "text/plain": [
       "list"
      ]
     },
     "execution_count": 156,
     "metadata": {},
     "output_type": "execute_result"
    }
   ],
   "source": [
    "type(address.split())"
   ]
  },
  {
   "cell_type": "markdown",
   "id": "46c3ec33",
   "metadata": {},
   "source": [
    "- .join() method"
   ]
  },
  {
   "cell_type": "code",
   "execution_count": 157,
   "id": "14e6f9e1",
   "metadata": {},
   "outputs": [
    {
     "data": {
      "text/plain": [
       "'1234 Main St, San Antonio, TX 78231'"
      ]
     },
     "execution_count": 157,
     "metadata": {},
     "output_type": "execute_result"
    }
   ],
   "source": [
    "', '.join(address_list)\n",
    "# joins lists back together"
   ]
  },
  {
   "cell_type": "code",
   "execution_count": null,
   "id": "7c9d97d5",
   "metadata": {},
   "outputs": [],
   "source": []
  }
 ],
 "metadata": {
  "kernelspec": {
   "display_name": "Python 3",
   "language": "python",
   "name": "python3"
  },
  "language_info": {
   "codemirror_mode": {
    "name": "ipython",
    "version": 3
   },
   "file_extension": ".py",
   "mimetype": "text/x-python",
   "name": "python",
   "nbconvert_exporter": "python",
   "pygments_lexer": "ipython3",
   "version": "3.8.8"
  }
 },
 "nbformat": 4,
 "nbformat_minor": 5
}
