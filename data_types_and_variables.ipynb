{
 "cells": [
  {
   "cell_type": "markdown",
   "id": "7ae431bd",
   "metadata": {},
   "source": [
    "Exercise 1. \n",
    "- You have rented some movies for your kids: The little mermaid (for 3 days), Brother Bear (for 5 days, they love it), and Hercules (1 day, you don't know yet if they're going to like it). If price for a movie per day is 3 dollars, how much will you have to pay?"
   ]
  },
  {
   "cell_type": "code",
   "execution_count": 1,
   "id": "cb1e3962",
   "metadata": {},
   "outputs": [],
   "source": [
    "The_little_mermaid = 3"
   ]
  },
  {
   "cell_type": "code",
   "execution_count": 2,
   "id": "bc322081",
   "metadata": {},
   "outputs": [],
   "source": [
    "Brother_Bear = 5"
   ]
  },
  {
   "cell_type": "code",
   "execution_count": 3,
   "id": "d8c18d82",
   "metadata": {},
   "outputs": [],
   "source": [
    "Hercules = 1"
   ]
  },
  {
   "cell_type": "code",
   "execution_count": 4,
   "id": "d13f1f21",
   "metadata": {},
   "outputs": [],
   "source": [
    "Movies_rented = [The_little_mermaid, Brother_Bear, Hercules]"
   ]
  },
  {
   "cell_type": "code",
   "execution_count": 5,
   "id": "e9f0f8f2",
   "metadata": {},
   "outputs": [],
   "source": [
    "Price_paid = [i * 3 for i in Movies_rented]"
   ]
  },
  {
   "cell_type": "code",
   "execution_count": 6,
   "id": "b0333eef",
   "metadata": {},
   "outputs": [
    {
     "data": {
      "text/plain": [
       "[9, 15, 3]"
      ]
     },
     "execution_count": 6,
     "metadata": {},
     "output_type": "execute_result"
    }
   ],
   "source": [
    "Price_paid"
   ]
  },
  {
   "cell_type": "code",
   "execution_count": 12,
   "id": "fdb72ba1",
   "metadata": {},
   "outputs": [
    {
     "data": {
      "text/plain": [
       "27"
      ]
     },
     "execution_count": 12,
     "metadata": {},
     "output_type": "execute_result"
    }
   ],
   "source": [
    "sum(Price_paid)"
   ]
  },
  {
   "cell_type": "code",
   "execution_count": 26,
   "id": "4553a52d",
   "metadata": {},
   "outputs": [],
   "source": [
    "# I will have to pay $27"
   ]
  },
  {
   "cell_type": "markdown",
   "id": "2970fe03",
   "metadata": {},
   "source": [
    "Exercise 2. \n",
    "- Suppose you're working as a contractor for 3 companies: Google, Amazon and Facebook, they pay you a different rate per hour. Google pays 400 dollars per hour, Amazon 380, and Facebook 350. How much will you receive in payment for this week? You worked 10 hours for Facebook, 6 hours for Google and 4 hours for Amazon."
   ]
  },
  {
   "cell_type": "code",
   "execution_count": 7,
   "id": "d9489f58",
   "metadata": {},
   "outputs": [],
   "source": [
    "Google = 400"
   ]
  },
  {
   "cell_type": "code",
   "execution_count": 8,
   "id": "fdaa0860",
   "metadata": {},
   "outputs": [],
   "source": [
    "Amazon = 380"
   ]
  },
  {
   "cell_type": "code",
   "execution_count": 9,
   "id": "cd930cc8",
   "metadata": {},
   "outputs": [],
   "source": [
    "Facebook = 350"
   ]
  },
  {
   "cell_type": "code",
   "execution_count": 10,
   "id": "503f23e4",
   "metadata": {},
   "outputs": [],
   "source": [
    "Money_per_hour_per_company = [Google, Amazon, Facebook]"
   ]
  },
  {
   "cell_type": "code",
   "execution_count": 11,
   "id": "89f9737e",
   "metadata": {},
   "outputs": [
    {
     "data": {
      "text/plain": [
       "[400, 380, 350]"
      ]
     },
     "execution_count": 11,
     "metadata": {},
     "output_type": "execute_result"
    }
   ],
   "source": [
    "Money_per_hour_per_company"
   ]
  },
  {
   "cell_type": "code",
   "execution_count": 13,
   "id": "687faa45",
   "metadata": {},
   "outputs": [],
   "source": [
    "Google_dollars = Google * 6"
   ]
  },
  {
   "cell_type": "code",
   "execution_count": 14,
   "id": "eb2ada08",
   "metadata": {},
   "outputs": [
    {
     "data": {
      "text/plain": [
       "2400"
      ]
     },
     "execution_count": 14,
     "metadata": {},
     "output_type": "execute_result"
    }
   ],
   "source": [
    "Google_dollars"
   ]
  },
  {
   "cell_type": "code",
   "execution_count": 15,
   "id": "6789611b",
   "metadata": {},
   "outputs": [],
   "source": [
    "Amazon_dollars = Amazon * 4"
   ]
  },
  {
   "cell_type": "code",
   "execution_count": 17,
   "id": "eaa6bc68",
   "metadata": {},
   "outputs": [
    {
     "data": {
      "text/plain": [
       "1520"
      ]
     },
     "execution_count": 17,
     "metadata": {},
     "output_type": "execute_result"
    }
   ],
   "source": [
    "Amazon_dollars"
   ]
  },
  {
   "cell_type": "code",
   "execution_count": 18,
   "id": "f83c4d3e",
   "metadata": {},
   "outputs": [],
   "source": [
    "Facebook_dollars = Facebook * 10 "
   ]
  },
  {
   "cell_type": "code",
   "execution_count": 19,
   "id": "f1464d3e",
   "metadata": {},
   "outputs": [
    {
     "data": {
      "text/plain": [
       "3500"
      ]
     },
     "execution_count": 19,
     "metadata": {},
     "output_type": "execute_result"
    }
   ],
   "source": [
    "Facebook_dollars"
   ]
  },
  {
   "cell_type": "code",
   "execution_count": 23,
   "id": "f3819c3b",
   "metadata": {},
   "outputs": [],
   "source": [
    "This_Week_in_dollars = Google_dollars + Amazon_dollars + Facebook_dollars"
   ]
  },
  {
   "cell_type": "code",
   "execution_count": 24,
   "id": "93902280",
   "metadata": {},
   "outputs": [
    {
     "data": {
      "text/plain": [
       "7420"
      ]
     },
     "execution_count": 24,
     "metadata": {},
     "output_type": "execute_result"
    }
   ],
   "source": [
    "This_Week_in_dollars"
   ]
  },
  {
   "cell_type": "code",
   "execution_count": 25,
   "id": "f3400516",
   "metadata": {},
   "outputs": [],
   "source": [
    "# This week I made $7420"
   ]
  },
  {
   "cell_type": "markdown",
   "id": "3ab931eb",
   "metadata": {},
   "source": [
    "Exercise 3. \n",
    "- A student can be enrolled to a class only if the class is not full and the class schedule does not conflict with her current schedule."
   ]
  },
  {
   "cell_type": "code",
   "execution_count": 38,
   "id": "41623e24",
   "metadata": {},
   "outputs": [],
   "source": [
    "is_there_room = True"
   ]
  },
  {
   "cell_type": "code",
   "execution_count": 39,
   "id": "a398d709",
   "metadata": {},
   "outputs": [],
   "source": [
    "are_there_conflicts = False"
   ]
  },
  {
   "cell_type": "code",
   "execution_count": 40,
   "id": "9f002e7e",
   "metadata": {},
   "outputs": [],
   "source": [
    "can_she_enroll = is_there_room and not are_there_conflicts"
   ]
  },
  {
   "cell_type": "code",
   "execution_count": 41,
   "id": "7f4c0079",
   "metadata": {},
   "outputs": [
    {
     "data": {
      "text/plain": [
       "True"
      ]
     },
     "execution_count": 41,
     "metadata": {},
     "output_type": "execute_result"
    }
   ],
   "source": [
    "can_she_enroll"
   ]
  },
  {
   "cell_type": "markdown",
   "id": "08a5c408",
   "metadata": {},
   "source": [
    "Exercise 4. \n",
    "- A product offer can be applied only if people buys more than 2 items, and the offer has not expired. Premium members do not need to buy a specific amount of products."
   ]
  },
  {
   "cell_type": "code",
   "execution_count": 49,
   "id": "aebe1b77",
   "metadata": {},
   "outputs": [],
   "source": [
    "more_than_two = True"
   ]
  },
  {
   "cell_type": "code",
   "execution_count": 54,
   "id": "c17dafe6",
   "metadata": {},
   "outputs": [],
   "source": [
    "expired = False"
   ]
  },
  {
   "cell_type": "code",
   "execution_count": 51,
   "id": "508f3a9b",
   "metadata": {},
   "outputs": [],
   "source": [
    "premium_member = False"
   ]
  },
  {
   "cell_type": "code",
   "execution_count": 55,
   "id": "1437ae0e",
   "metadata": {},
   "outputs": [],
   "source": [
    "Product_offer = (more_than_two and not expired) or premium_member"
   ]
  },
  {
   "cell_type": "raw",
   "id": "9585234b",
   "metadata": {},
   "source": [
    "Product_offer"
   ]
  },
  {
   "cell_type": "markdown",
   "id": "0a9bf6da",
   "metadata": {},
   "source": [
    "Exercise 5. \n",
    "- Use the following code to follow the instructions below:\n",
    "    - username = 'codeup'\n",
    "    - password = 'notastrongpassword'\n",
    "- Create a variable that holds a boolean value for each of the following conditions:\n",
    "\n",
    "    - the password must be at least 5 characters\n",
    "    - the username must be no more than 20 characters\n",
    "    - the password must not be the same as the username\n",
    "    - bonus neither the username or password can start or end with whitespace\n",
    "\n"
   ]
  },
  {
   "cell_type": "code",
   "execution_count": 3,
   "id": "134eb3f6",
   "metadata": {},
   "outputs": [],
   "source": [
    "username = 'codeup'"
   ]
  },
  {
   "cell_type": "code",
   "execution_count": 4,
   "id": "2da259d3",
   "metadata": {},
   "outputs": [],
   "source": [
    "password = 'notastrongpassword'"
   ]
  },
  {
   "cell_type": "code",
   "execution_count": 5,
   "id": "e8ff87cf",
   "metadata": {},
   "outputs": [],
   "source": [
    "\n",
    "at_least_5 = len(password)>=5"
   ]
  },
  {
   "cell_type": "code",
   "execution_count": 6,
   "id": "dd4a9860",
   "metadata": {},
   "outputs": [
    {
     "data": {
      "text/plain": [
       "True"
      ]
     },
     "execution_count": 6,
     "metadata": {},
     "output_type": "execute_result"
    }
   ],
   "source": [
    "at_least_5"
   ]
  },
  {
   "cell_type": "code",
   "execution_count": 7,
   "id": "2cbd8ba3",
   "metadata": {},
   "outputs": [],
   "source": [
    "twenty_only = len(username)<=20"
   ]
  },
  {
   "cell_type": "code",
   "execution_count": 8,
   "id": "2c1ace1a",
   "metadata": {},
   "outputs": [
    {
     "data": {
      "text/plain": [
       "True"
      ]
     },
     "execution_count": 8,
     "metadata": {},
     "output_type": "execute_result"
    }
   ],
   "source": [
    "twenty_only"
   ]
  },
  {
   "cell_type": "code",
   "execution_count": 12,
   "id": "65e4a133",
   "metadata": {},
   "outputs": [],
   "source": [
    "unique_credentials = password != username"
   ]
  },
  {
   "cell_type": "code",
   "execution_count": 13,
   "id": "0793878e",
   "metadata": {},
   "outputs": [
    {
     "data": {
      "text/plain": [
       "True"
      ]
     },
     "execution_count": 13,
     "metadata": {},
     "output_type": "execute_result"
    }
   ],
   "source": [
    "unique_credentials"
   ]
  },
  {
   "cell_type": "code",
   "execution_count": 21,
   "id": "ecd9153b",
   "metadata": {},
   "outputs": [],
   "source": [
    "leading_whitespace_password = password[0] in ' '"
   ]
  },
  {
   "cell_type": "code",
   "execution_count": 22,
   "id": "dff1d44c",
   "metadata": {},
   "outputs": [],
   "source": [
    "trailing_whitespace_password = password[-1] in ' '"
   ]
  },
  {
   "cell_type": "code",
   "execution_count": 23,
   "id": "0e4d2777",
   "metadata": {},
   "outputs": [],
   "source": [
    "leading_whitespace_username = username[0] in ' '"
   ]
  },
  {
   "cell_type": "code",
   "execution_count": 24,
   "id": "38becc7b",
   "metadata": {},
   "outputs": [],
   "source": [
    "trailing_whitespace_username = username[-1] in ' '"
   ]
  },
  {
   "cell_type": "code",
   "execution_count": 25,
   "id": "5606494c",
   "metadata": {},
   "outputs": [
    {
     "data": {
      "text/plain": [
       "False"
      ]
     },
     "execution_count": 25,
     "metadata": {},
     "output_type": "execute_result"
    }
   ],
   "source": [
    "leading_whitespace_password"
   ]
  },
  {
   "cell_type": "code",
   "execution_count": 26,
   "id": "e7765b24",
   "metadata": {},
   "outputs": [
    {
     "data": {
      "text/plain": [
       "False"
      ]
     },
     "execution_count": 26,
     "metadata": {},
     "output_type": "execute_result"
    }
   ],
   "source": [
    "trailing_whitespace_password"
   ]
  },
  {
   "cell_type": "code",
   "execution_count": 27,
   "id": "cbaed71c",
   "metadata": {},
   "outputs": [
    {
     "data": {
      "text/plain": [
       "False"
      ]
     },
     "execution_count": 27,
     "metadata": {},
     "output_type": "execute_result"
    }
   ],
   "source": [
    "leading_whitespace_username\n"
   ]
  },
  {
   "cell_type": "code",
   "execution_count": 28,
   "id": "52d8c081",
   "metadata": {},
   "outputs": [
    {
     "data": {
      "text/plain": [
       "False"
      ]
     },
     "execution_count": 28,
     "metadata": {},
     "output_type": "execute_result"
    }
   ],
   "source": [
    "trailing_whitespace_username"
   ]
  },
  {
   "cell_type": "code",
   "execution_count": null,
   "id": "96552f35",
   "metadata": {},
   "outputs": [],
   "source": []
  }
 ],
 "metadata": {
  "kernelspec": {
   "display_name": "Python 3",
   "language": "python",
   "name": "python3"
  },
  "language_info": {
   "codemirror_mode": {
    "name": "ipython",
    "version": 3
   },
   "file_extension": ".py",
   "mimetype": "text/x-python",
   "name": "python",
   "nbconvert_exporter": "python",
   "pygments_lexer": "ipython3",
   "version": "3.8.8"
  }
 },
 "nbformat": 4,
 "nbformat_minor": 5
}
