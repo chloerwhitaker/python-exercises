{
 "cells": [
  {
   "cell_type": "markdown",
   "id": "73d8f021",
   "metadata": {},
   "source": [
    "Exercise 1. \n",
    "- You have rented some movies for your kids: The little mermaid (for 3 days), Brother Bear (for 5 days, they love it), and Hercules (1 day, you don't know yet if they're going to like it). If price for a movie per day is 3 dollars, how much will you have to pay?"
   ]
  },
  {
   "cell_type": "code",
   "execution_count": 1,
   "id": "07452b28",
   "metadata": {},
   "outputs": [],
   "source": [
    "The_little_mermaid = 3"
   ]
  },
  {
   "cell_type": "code",
   "execution_count": 2,
   "id": "47813ad5",
   "metadata": {},
   "outputs": [],
   "source": [
    "Brother_Bear = 5"
   ]
  },
  {
   "cell_type": "code",
   "execution_count": 3,
   "id": "b12aa9ae",
   "metadata": {},
   "outputs": [],
   "source": [
    "Hercules = 1"
   ]
  },
  {
   "cell_type": "code",
   "execution_count": 4,
   "id": "966e0ef9",
   "metadata": {},
   "outputs": [],
   "source": [
    "Movies_rented = [The_little_mermaid, Brother_Bear, Hercules]"
   ]
  },
  {
   "cell_type": "code",
   "execution_count": 5,
   "id": "552513f5",
   "metadata": {},
   "outputs": [],
   "source": [
    "Price_paid = [i * 3 for i in Movies_rented]"
   ]
  },
  {
   "cell_type": "code",
   "execution_count": 6,
   "id": "6b62fc5c",
   "metadata": {},
   "outputs": [
    {
     "data": {
      "text/plain": [
       "[9, 15, 3]"
      ]
     },
     "execution_count": 6,
     "metadata": {},
     "output_type": "execute_result"
    }
   ],
   "source": [
    "Price_paid"
   ]
  },
  {
   "cell_type": "code",
   "execution_count": 12,
   "id": "4a18e28e",
   "metadata": {},
   "outputs": [
    {
     "data": {
      "text/plain": [
       "27"
      ]
     },
     "execution_count": 12,
     "metadata": {},
     "output_type": "execute_result"
    }
   ],
   "source": [
    "sum(Price_paid)"
   ]
  },
  {
   "cell_type": "code",
   "execution_count": 26,
   "id": "31af2ea8",
   "metadata": {},
   "outputs": [],
   "source": [
    "# I will have to pay $27"
   ]
  },
  {
   "cell_type": "markdown",
   "id": "9ca3057b",
   "metadata": {},
   "source": [
    "Exercise 2. \n",
    "- Suppose you're working as a contractor for 3 companies: Google, Amazon and Facebook, they pay you a different rate per hour. Google pays 400 dollars per hour, Amazon 380, and Facebook 350. How much will you receive in payment for this week? You worked 10 hours for Facebook, 6 hours for Google and 4 hours for Amazon."
   ]
  },
  {
   "cell_type": "code",
   "execution_count": 7,
   "id": "c6d50d8c",
   "metadata": {},
   "outputs": [],
   "source": [
    "Google = 400"
   ]
  },
  {
   "cell_type": "code",
   "execution_count": 8,
   "id": "84448c53",
   "metadata": {},
   "outputs": [],
   "source": [
    "Amazon = 380"
   ]
  },
  {
   "cell_type": "code",
   "execution_count": 9,
   "id": "1ccbac23",
   "metadata": {},
   "outputs": [],
   "source": [
    "Facebook = 350"
   ]
  },
  {
   "cell_type": "code",
   "execution_count": 10,
   "id": "4dd636eb",
   "metadata": {},
   "outputs": [],
   "source": [
    "Money_per_hour_per_company = [Google, Amazon, Facebook]"
   ]
  },
  {
   "cell_type": "code",
   "execution_count": 11,
   "id": "c96117a3",
   "metadata": {},
   "outputs": [
    {
     "data": {
      "text/plain": [
       "[400, 380, 350]"
      ]
     },
     "execution_count": 11,
     "metadata": {},
     "output_type": "execute_result"
    }
   ],
   "source": [
    "Money_per_hour_per_company"
   ]
  },
  {
   "cell_type": "code",
   "execution_count": 13,
   "id": "f225f335",
   "metadata": {},
   "outputs": [],
   "source": [
    "Google_dollars = Google * 6"
   ]
  },
  {
   "cell_type": "code",
   "execution_count": 14,
   "id": "947770fe",
   "metadata": {},
   "outputs": [
    {
     "data": {
      "text/plain": [
       "2400"
      ]
     },
     "execution_count": 14,
     "metadata": {},
     "output_type": "execute_result"
    }
   ],
   "source": [
    "Google_dollars"
   ]
  },
  {
   "cell_type": "code",
   "execution_count": 15,
   "id": "dfec83cb",
   "metadata": {},
   "outputs": [],
   "source": [
    "Amazon_dollars = Amazon * 4"
   ]
  },
  {
   "cell_type": "code",
   "execution_count": 17,
   "id": "2322bda9",
   "metadata": {},
   "outputs": [
    {
     "data": {
      "text/plain": [
       "1520"
      ]
     },
     "execution_count": 17,
     "metadata": {},
     "output_type": "execute_result"
    }
   ],
   "source": [
    "Amazon_dollars"
   ]
  },
  {
   "cell_type": "code",
   "execution_count": 18,
   "id": "46780039",
   "metadata": {},
   "outputs": [],
   "source": [
    "Facebook_dollars = Facebook * 10 "
   ]
  },
  {
   "cell_type": "code",
   "execution_count": 19,
   "id": "dbc65db6",
   "metadata": {},
   "outputs": [
    {
     "data": {
      "text/plain": [
       "3500"
      ]
     },
     "execution_count": 19,
     "metadata": {},
     "output_type": "execute_result"
    }
   ],
   "source": [
    "Facebook_dollars"
   ]
  },
  {
   "cell_type": "code",
   "execution_count": 23,
   "id": "3857ba12",
   "metadata": {},
   "outputs": [],
   "source": [
    "This_Week_in_dollars = Google_dollars + Amazon_dollars + Facebook_dollars"
   ]
  },
  {
   "cell_type": "code",
   "execution_count": 24,
   "id": "e5a9fb58",
   "metadata": {},
   "outputs": [
    {
     "data": {
      "text/plain": [
       "7420"
      ]
     },
     "execution_count": 24,
     "metadata": {},
     "output_type": "execute_result"
    }
   ],
   "source": [
    "This_Week_in_dollars"
   ]
  },
  {
   "cell_type": "code",
   "execution_count": 25,
   "id": "dd8a8d0b",
   "metadata": {},
   "outputs": [],
   "source": [
    "# This week I made $7420"
   ]
  },
  {
   "cell_type": "markdown",
   "id": "62b416d2",
   "metadata": {},
   "source": [
    "Exercise 3. \n",
    "- A student can be enrolled to a class only if the class is not full and the class schedule does not conflict with her current schedule."
   ]
  },
  {
   "cell_type": "code",
   "execution_count": 38,
   "id": "5218cb8d",
   "metadata": {},
   "outputs": [],
   "source": [
    "is_there_room = True"
   ]
  },
  {
   "cell_type": "code",
   "execution_count": 39,
   "id": "94ef7738",
   "metadata": {},
   "outputs": [],
   "source": [
    "are_there_conflicts = False"
   ]
  },
  {
   "cell_type": "code",
   "execution_count": 40,
   "id": "e19237dd",
   "metadata": {},
   "outputs": [],
   "source": [
    "can_she_enroll = is_there_room and not are_there_conflicts"
   ]
  },
  {
   "cell_type": "code",
   "execution_count": 41,
   "id": "0334dcda",
   "metadata": {},
   "outputs": [
    {
     "data": {
      "text/plain": [
       "True"
      ]
     },
     "execution_count": 41,
     "metadata": {},
     "output_type": "execute_result"
    }
   ],
   "source": [
    "can_she_enroll"
   ]
  },
  {
   "cell_type": "markdown",
   "id": "0e91201b",
   "metadata": {},
   "source": [
    "Exercise 4. \n",
    "- A product offer can be applied only if people buys more than 2 items, and the offer has not expired. Premium members do not need to buy a specific amount of products."
   ]
  },
  {
   "cell_type": "code",
   "execution_count": 49,
   "id": "1723d130",
   "metadata": {},
   "outputs": [],
   "source": [
    "more_than_two = True"
   ]
  },
  {
   "cell_type": "code",
   "execution_count": 54,
   "id": "6a053f22",
   "metadata": {},
   "outputs": [],
   "source": [
    "expired = False"
   ]
  },
  {
   "cell_type": "code",
   "execution_count": 51,
   "id": "31d42a18",
   "metadata": {},
   "outputs": [],
   "source": [
    "premium_member = False"
   ]
  },
  {
   "cell_type": "code",
   "execution_count": 55,
   "id": "fa9c522c",
   "metadata": {},
   "outputs": [],
   "source": [
    "Product_offer = (more_than_two and not expired) or premium_member"
   ]
  },
  {
   "cell_type": "code",
   "execution_count": 56,
   "id": "cf21402b",
   "metadata": {},
   "outputs": [
    {
     "data": {
      "text/plain": [
       "True"
      ]
     },
     "execution_count": 56,
     "metadata": {},
     "output_type": "execute_result"
    }
   ],
   "source": [
    "Product_offer"
   ]
  },
  {
   "cell_type": "code",
   "execution_count": null,
   "id": "8f34619c",
   "metadata": {},
   "outputs": [],
   "source": []
  }
 ],
 "metadata": {
  "kernelspec": {
   "display_name": "Python 3",
   "language": "python",
   "name": "python3"
  },
  "language_info": {
   "codemirror_mode": {
    "name": "ipython",
    "version": 3
   },
   "file_extension": ".py",
   "mimetype": "text/x-python",
   "name": "python",
   "nbconvert_exporter": "python",
   "pygments_lexer": "ipython3",
   "version": "3.8.8"
  }
 },
 "nbformat": 4,
 "nbformat_minor": 5
}
